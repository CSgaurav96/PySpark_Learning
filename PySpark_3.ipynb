{
 "cells": [
  {
   "cell_type": "markdown",
   "metadata": {},
   "source": [
    "# PySpark Handelling Missing Values\n",
    "* Dropping columns\n",
    "* Dropping Rows\n",
    "* Various parameters in dropping functionalities\n",
    "* Handelling missing values by mean, median & mode "
   ]
  },
  {
   "cell_type": "code",
   "execution_count": 1,
   "metadata": {},
   "outputs": [],
   "source": [
    "# Liabraries import\n",
    "import pandas as pd\n",
    "import pyspark"
   ]
  },
  {
   "cell_type": "code",
   "execution_count": 2,
   "metadata": {},
   "outputs": [
    {
     "data": {
      "text/html": [
       "\n",
       "            <div>\n",
       "                <p><b>SparkSession - in-memory</b></p>\n",
       "                \n",
       "        <div>\n",
       "            <p><b>SparkContext</b></p>\n",
       "\n",
       "            <p><a href=\"http://LAPTOP-MD25QIC5:4042\">Spark UI</a></p>\n",
       "\n",
       "            <dl>\n",
       "              <dt>Version</dt>\n",
       "                <dd><code>v3.5.1</code></dd>\n",
       "              <dt>Master</dt>\n",
       "                <dd><code>local[*]</code></dd>\n",
       "              <dt>AppName</dt>\n",
       "                <dd><code>Practice</code></dd>\n",
       "            </dl>\n",
       "        </div>\n",
       "        \n",
       "            </div>\n",
       "        "
      ],
      "text/plain": [
       "<pyspark.sql.session.SparkSession at 0x166bac4a2b0>"
      ]
     },
     "execution_count": 2,
     "metadata": {},
     "output_type": "execute_result"
    }
   ],
   "source": [
    "# Create a PySpark session\n",
    "from pyspark.sql import SparkSession\n",
    "SparkSession = SparkSession.builder.appName('Practice').getOrCreate()\n",
    "SparkSession"
   ]
  },
  {
   "cell_type": "code",
   "execution_count": 3,
   "metadata": {},
   "outputs": [
    {
     "name": "stdout",
     "output_type": "stream",
     "text": [
      "+----------+----+----------+------+\n",
      "|      Name| age|Experience|Salary|\n",
      "+----------+----+----------+------+\n",
      "|     Krish|  31|        10| 30000|\n",
      "|Sudhanshu |  30|         8| 25000|\n",
      "|     Sunny|  29|         4| 20000|\n",
      "|     Parul|  24|         3| 20000|\n",
      "|    Harsha|  21|         1| 15000|\n",
      "|   Shubham|  23|         2| 18000|\n",
      "|    Mahesh|NULL|      NULL| 40000|\n",
      "|      NULL|  34|        10| 38000|\n",
      "|      NULL|  36|      NULL|  NULL|\n",
      "+----------+----+----------+------+\n",
      "\n"
     ]
    }
   ],
   "source": [
    "# read data (pyspark)\n",
    "data_path = \"C:\\Personal\\Carrier Path\\Data_Scientist\\Advanced Phase\\PySpark/\"\n",
    "data = SparkSession.read.csv(data_path + 'Data_2.csv', inferSchema = True , header = True)\n",
    "data.show()"
   ]
  },
  {
   "cell_type": "code",
   "execution_count": 4,
   "metadata": {},
   "outputs": [
    {
     "data": {
      "text/html": [
       "<div>\n",
       "<style scoped>\n",
       "    .dataframe tbody tr th:only-of-type {\n",
       "        vertical-align: middle;\n",
       "    }\n",
       "\n",
       "    .dataframe tbody tr th {\n",
       "        vertical-align: top;\n",
       "    }\n",
       "\n",
       "    .dataframe thead th {\n",
       "        text-align: right;\n",
       "    }\n",
       "</style>\n",
       "<table border=\"1\" class=\"dataframe\">\n",
       "  <thead>\n",
       "    <tr style=\"text-align: right;\">\n",
       "      <th></th>\n",
       "      <th>Name</th>\n",
       "      <th>age</th>\n",
       "      <th>Experience</th>\n",
       "      <th>Salary</th>\n",
       "    </tr>\n",
       "  </thead>\n",
       "  <tbody>\n",
       "    <tr>\n",
       "      <th>0</th>\n",
       "      <td>Krish</td>\n",
       "      <td>31.0</td>\n",
       "      <td>10.0</td>\n",
       "      <td>30000.0</td>\n",
       "    </tr>\n",
       "    <tr>\n",
       "      <th>1</th>\n",
       "      <td>Sudhanshu</td>\n",
       "      <td>30.0</td>\n",
       "      <td>8.0</td>\n",
       "      <td>25000.0</td>\n",
       "    </tr>\n",
       "    <tr>\n",
       "      <th>2</th>\n",
       "      <td>Sunny</td>\n",
       "      <td>29.0</td>\n",
       "      <td>4.0</td>\n",
       "      <td>20000.0</td>\n",
       "    </tr>\n",
       "    <tr>\n",
       "      <th>3</th>\n",
       "      <td>Parul</td>\n",
       "      <td>24.0</td>\n",
       "      <td>3.0</td>\n",
       "      <td>20000.0</td>\n",
       "    </tr>\n",
       "    <tr>\n",
       "      <th>4</th>\n",
       "      <td>Harsha</td>\n",
       "      <td>21.0</td>\n",
       "      <td>1.0</td>\n",
       "      <td>15000.0</td>\n",
       "    </tr>\n",
       "    <tr>\n",
       "      <th>5</th>\n",
       "      <td>Shubham</td>\n",
       "      <td>23.0</td>\n",
       "      <td>2.0</td>\n",
       "      <td>18000.0</td>\n",
       "    </tr>\n",
       "    <tr>\n",
       "      <th>6</th>\n",
       "      <td>Mahesh</td>\n",
       "      <td>NaN</td>\n",
       "      <td>NaN</td>\n",
       "      <td>40000.0</td>\n",
       "    </tr>\n",
       "    <tr>\n",
       "      <th>7</th>\n",
       "      <td>NaN</td>\n",
       "      <td>34.0</td>\n",
       "      <td>10.0</td>\n",
       "      <td>38000.0</td>\n",
       "    </tr>\n",
       "    <tr>\n",
       "      <th>8</th>\n",
       "      <td>NaN</td>\n",
       "      <td>36.0</td>\n",
       "      <td>NaN</td>\n",
       "      <td>NaN</td>\n",
       "    </tr>\n",
       "  </tbody>\n",
       "</table>\n",
       "</div>"
      ],
      "text/plain": [
       "         Name   age  Experience   Salary\n",
       "0       Krish  31.0        10.0  30000.0\n",
       "1  Sudhanshu   30.0         8.0  25000.0\n",
       "2       Sunny  29.0         4.0  20000.0\n",
       "3       Parul  24.0         3.0  20000.0\n",
       "4      Harsha  21.0         1.0  15000.0\n",
       "5     Shubham  23.0         2.0  18000.0\n",
       "6      Mahesh   NaN         NaN  40000.0\n",
       "7         NaN  34.0        10.0  38000.0\n",
       "8         NaN  36.0         NaN      NaN"
      ]
     },
     "execution_count": 4,
     "metadata": {},
     "output_type": "execute_result"
    }
   ],
   "source": [
    "# read data pandas\n",
    "data_pandas = pd.read_csv(data_path + 'Data_2.csv')\n",
    "data_pandas"
   ]
  },
  {
   "cell_type": "markdown",
   "metadata": {},
   "source": [
    "### Drop the columns"
   ]
  },
  {
   "cell_type": "code",
   "execution_count": 5,
   "metadata": {},
   "outputs": [
    {
     "data": {
      "text/plain": [
       "DataFrame[age: int, Experience: int, Salary: int]"
      ]
     },
     "execution_count": 5,
     "metadata": {},
     "output_type": "execute_result"
    }
   ],
   "source": [
    "# pyspark \n",
    "data.drop('Name')"
   ]
  },
  {
   "cell_type": "code",
   "execution_count": 6,
   "metadata": {},
   "outputs": [
    {
     "data": {
      "text/html": [
       "<div>\n",
       "<style scoped>\n",
       "    .dataframe tbody tr th:only-of-type {\n",
       "        vertical-align: middle;\n",
       "    }\n",
       "\n",
       "    .dataframe tbody tr th {\n",
       "        vertical-align: top;\n",
       "    }\n",
       "\n",
       "    .dataframe thead th {\n",
       "        text-align: right;\n",
       "    }\n",
       "</style>\n",
       "<table border=\"1\" class=\"dataframe\">\n",
       "  <thead>\n",
       "    <tr style=\"text-align: right;\">\n",
       "      <th></th>\n",
       "      <th>age</th>\n",
       "      <th>Experience</th>\n",
       "      <th>Salary</th>\n",
       "    </tr>\n",
       "  </thead>\n",
       "  <tbody>\n",
       "    <tr>\n",
       "      <th>0</th>\n",
       "      <td>31.0</td>\n",
       "      <td>10.0</td>\n",
       "      <td>30000.0</td>\n",
       "    </tr>\n",
       "    <tr>\n",
       "      <th>1</th>\n",
       "      <td>30.0</td>\n",
       "      <td>8.0</td>\n",
       "      <td>25000.0</td>\n",
       "    </tr>\n",
       "    <tr>\n",
       "      <th>2</th>\n",
       "      <td>29.0</td>\n",
       "      <td>4.0</td>\n",
       "      <td>20000.0</td>\n",
       "    </tr>\n",
       "    <tr>\n",
       "      <th>3</th>\n",
       "      <td>24.0</td>\n",
       "      <td>3.0</td>\n",
       "      <td>20000.0</td>\n",
       "    </tr>\n",
       "    <tr>\n",
       "      <th>4</th>\n",
       "      <td>21.0</td>\n",
       "      <td>1.0</td>\n",
       "      <td>15000.0</td>\n",
       "    </tr>\n",
       "    <tr>\n",
       "      <th>5</th>\n",
       "      <td>23.0</td>\n",
       "      <td>2.0</td>\n",
       "      <td>18000.0</td>\n",
       "    </tr>\n",
       "    <tr>\n",
       "      <th>6</th>\n",
       "      <td>NaN</td>\n",
       "      <td>NaN</td>\n",
       "      <td>40000.0</td>\n",
       "    </tr>\n",
       "    <tr>\n",
       "      <th>7</th>\n",
       "      <td>34.0</td>\n",
       "      <td>10.0</td>\n",
       "      <td>38000.0</td>\n",
       "    </tr>\n",
       "    <tr>\n",
       "      <th>8</th>\n",
       "      <td>36.0</td>\n",
       "      <td>NaN</td>\n",
       "      <td>NaN</td>\n",
       "    </tr>\n",
       "  </tbody>\n",
       "</table>\n",
       "</div>"
      ],
      "text/plain": [
       "    age  Experience   Salary\n",
       "0  31.0        10.0  30000.0\n",
       "1  30.0         8.0  25000.0\n",
       "2  29.0         4.0  20000.0\n",
       "3  24.0         3.0  20000.0\n",
       "4  21.0         1.0  15000.0\n",
       "5  23.0         2.0  18000.0\n",
       "6   NaN         NaN  40000.0\n",
       "7  34.0        10.0  38000.0\n",
       "8  36.0         NaN      NaN"
      ]
     },
     "execution_count": 6,
     "metadata": {},
     "output_type": "execute_result"
    }
   ],
   "source": [
    "# pandas\n",
    "data_pandas.drop('Name', axis = 1)"
   ]
  },
  {
   "cell_type": "markdown",
   "metadata": {},
   "source": [
    "### Drop rows including the null values "
   ]
  },
  {
   "cell_type": "code",
   "execution_count": 7,
   "metadata": {},
   "outputs": [
    {
     "name": "stdout",
     "output_type": "stream",
     "text": [
      "+----------+---+----------+------+\n",
      "|      Name|age|Experience|Salary|\n",
      "+----------+---+----------+------+\n",
      "|     Krish| 31|        10| 30000|\n",
      "|Sudhanshu | 30|         8| 25000|\n",
      "|     Sunny| 29|         4| 20000|\n",
      "|     Parul| 24|         3| 20000|\n",
      "|    Harsha| 21|         1| 15000|\n",
      "|   Shubham| 23|         2| 18000|\n",
      "+----------+---+----------+------+\n",
      "\n"
     ]
    }
   ],
   "source": [
    "# PySpark - Option 1\n",
    "data.dropna().show()"
   ]
  },
  {
   "cell_type": "code",
   "execution_count": 8,
   "metadata": {},
   "outputs": [
    {
     "name": "stdout",
     "output_type": "stream",
     "text": [
      "+----------+---+----------+------+\n",
      "|      Name|age|Experience|Salary|\n",
      "+----------+---+----------+------+\n",
      "|     Krish| 31|        10| 30000|\n",
      "|Sudhanshu | 30|         8| 25000|\n",
      "|     Sunny| 29|         4| 20000|\n",
      "|     Parul| 24|         3| 20000|\n",
      "|    Harsha| 21|         1| 15000|\n",
      "|   Shubham| 23|         2| 18000|\n",
      "+----------+---+----------+------+\n",
      "\n"
     ]
    }
   ],
   "source": [
    "# PySpark - Option 2\n",
    "data.na.drop().show()"
   ]
  },
  {
   "cell_type": "markdown",
   "metadata": {},
   "source": [
    "* Basically 'drop.na' provides us some functionalities to drop rows in a specific way"
   ]
  },
  {
   "cell_type": "code",
   "execution_count": 9,
   "metadata": {},
   "outputs": [
    {
     "name": "stdout",
     "output_type": "stream",
     "text": [
      "+----------+---+----------+------+\n",
      "|      Name|age|Experience|Salary|\n",
      "+----------+---+----------+------+\n",
      "|     Krish| 31|        10| 30000|\n",
      "|Sudhanshu | 30|         8| 25000|\n",
      "|     Sunny| 29|         4| 20000|\n",
      "|     Parul| 24|         3| 20000|\n",
      "|    Harsha| 21|         1| 15000|\n",
      "|   Shubham| 23|         2| 18000|\n",
      "+----------+---+----------+------+\n",
      "\n"
     ]
    }
   ],
   "source": [
    "# Pyspark - Parameter under drop() - 'how'\n",
    "data.na.drop(how = 'any').show()\n",
    "\n",
    "# dropped all rows which includes atleast one NA value"
   ]
  },
  {
   "cell_type": "code",
   "execution_count": 10,
   "metadata": {},
   "outputs": [
    {
     "name": "stdout",
     "output_type": "stream",
     "text": [
      "+----------+----+----------+------+\n",
      "|      Name| age|Experience|Salary|\n",
      "+----------+----+----------+------+\n",
      "|     Krish|  31|        10| 30000|\n",
      "|Sudhanshu |  30|         8| 25000|\n",
      "|     Sunny|  29|         4| 20000|\n",
      "|     Parul|  24|         3| 20000|\n",
      "|    Harsha|  21|         1| 15000|\n",
      "|   Shubham|  23|         2| 18000|\n",
      "|    Mahesh|NULL|      NULL| 40000|\n",
      "|      NULL|  34|        10| 38000|\n",
      "|      NULL|  36|      NULL|  NULL|\n",
      "+----------+----+----------+------+\n",
      "\n"
     ]
    }
   ],
   "source": [
    "# Pyspark - Parameter under drop() - 'how'\n",
    "data.na.drop(how = 'all').show()\n",
    "\n",
    "# Drop rows which includes all the null values"
   ]
  },
  {
   "cell_type": "code",
   "execution_count": 11,
   "metadata": {},
   "outputs": [
    {
     "name": "stdout",
     "output_type": "stream",
     "text": [
      "+----------+----+----------+------+\n",
      "|      Name| age|Experience|Salary|\n",
      "+----------+----+----------+------+\n",
      "|     Krish|  31|        10| 30000|\n",
      "|Sudhanshu |  30|         8| 25000|\n",
      "|     Sunny|  29|         4| 20000|\n",
      "|     Parul|  24|         3| 20000|\n",
      "|    Harsha|  21|         1| 15000|\n",
      "|   Shubham|  23|         2| 18000|\n",
      "|    Mahesh|NULL|      NULL| 40000|\n",
      "|      NULL|  34|        10| 38000|\n",
      "+----------+----+----------+------+\n",
      "\n"
     ]
    }
   ],
   "source": [
    "# Pyspark - Parameter under drop() - 'thresh'\n",
    "data.na.drop(how = 'any', thresh = 2).show()\n",
    "\n",
    "# drop rows which have <2 non null values \n",
    "# This thresh overwrites the 'how' parameter"
   ]
  },
  {
   "cell_type": "code",
   "execution_count": 12,
   "metadata": {},
   "outputs": [
    {
     "name": "stdout",
     "output_type": "stream",
     "text": [
      "+----------+----+----------+------+\n",
      "|      Name| age|Experience|Salary|\n",
      "+----------+----+----------+------+\n",
      "|     Krish|  31|        10| 30000|\n",
      "|Sudhanshu |  30|         8| 25000|\n",
      "|     Sunny|  29|         4| 20000|\n",
      "|     Parul|  24|         3| 20000|\n",
      "|    Harsha|  21|         1| 15000|\n",
      "|   Shubham|  23|         2| 18000|\n",
      "|    Mahesh|NULL|      NULL| 40000|\n",
      "+----------+----+----------+------+\n",
      "\n"
     ]
    }
   ],
   "source": [
    "# Pyspark - Parameter under drop() - 'subset'\n",
    "data.na.drop(subset = ['Name']).show()\n",
    "\n",
    "# Under subset we provide variables for which we need to implement the null value treatment\n",
    "# All those rows are dropped for which we have null values in the variable 'Name'"
   ]
  },
  {
   "cell_type": "code",
   "execution_count": null,
   "metadata": {},
   "outputs": [],
   "source": [
    "# Pandas\n",
    "data_pandas.dropna()"
   ]
  },
  {
   "cell_type": "markdown",
   "metadata": {},
   "source": [
    "### Fill the missing value"
   ]
  },
  {
   "cell_type": "code",
   "execution_count": 13,
   "metadata": {},
   "outputs": [
    {
     "name": "stdout",
     "output_type": "stream",
     "text": [
      "+----------+---+----------+------+\n",
      "|      Name|age|Experience|Salary|\n",
      "+----------+---+----------+------+\n",
      "|     Krish| 31|        10| 30000|\n",
      "|Sudhanshu | 30|         8| 25000|\n",
      "|     Sunny| 29|         4| 20000|\n",
      "|     Parul| 24|         3| 20000|\n",
      "|    Harsha| 21|         1| 15000|\n",
      "|   Shubham| 23|         2| 18000|\n",
      "|    Mahesh|  2|         2| 40000|\n",
      "|      NULL| 34|        10| 38000|\n",
      "|      NULL| 36|         2|     2|\n",
      "+----------+---+----------+------+\n",
      "\n"
     ]
    }
   ],
   "source": [
    "data.na.fill(value = 2).show()\n",
    "\n",
    "# missing value in all the numerical data type variable is replaced with 2"
   ]
  },
  {
   "cell_type": "code",
   "execution_count": 14,
   "metadata": {},
   "outputs": [
    {
     "name": "stdout",
     "output_type": "stream",
     "text": [
      "+----------+----+----------+------+\n",
      "|      Name| age|Experience|Salary|\n",
      "+----------+----+----------+------+\n",
      "|     Krish|  31|        10| 30000|\n",
      "|Sudhanshu |  30|         8| 25000|\n",
      "|     Sunny|  29|         4| 20000|\n",
      "|     Parul|  24|         3| 20000|\n",
      "|    Harsha|  21|         1| 15000|\n",
      "|   Shubham|  23|         2| 18000|\n",
      "|    Mahesh|NULL|      NULL| 40000|\n",
      "|       abc|  34|        10| 38000|\n",
      "|       abc|  36|      NULL|  NULL|\n",
      "+----------+----+----------+------+\n",
      "\n"
     ]
    }
   ],
   "source": [
    "data.na.fill(value = 'abc').show()\n",
    "\n",
    "# missing value in all the text data type variable is replaced with 'abc'"
   ]
  },
  {
   "cell_type": "code",
   "execution_count": 15,
   "metadata": {},
   "outputs": [
    {
     "name": "stdout",
     "output_type": "stream",
     "text": [
      "+----------+----+----------+------+\n",
      "|      Name| age|Experience|Salary|\n",
      "+----------+----+----------+------+\n",
      "|     Krish|  31|        10| 30000|\n",
      "|Sudhanshu |  30|         8| 25000|\n",
      "|     Sunny|  29|         4| 20000|\n",
      "|     Parul|  24|         3| 20000|\n",
      "|    Harsha|  21|         1| 15000|\n",
      "|   Shubham|  23|         2| 18000|\n",
      "|    Mahesh|NULL|        15| 40000|\n",
      "|      NULL|  34|        10| 38000|\n",
      "|      NULL|  36|        15|  NULL|\n",
      "+----------+----+----------+------+\n",
      "\n"
     ]
    }
   ],
   "source": [
    "data.na.fill(value = 15 , subset = ['Experience']).show()\n",
    "\n",
    "# missing value in the variable 'Experience' is replaced with '15'"
   ]
  },
  {
   "cell_type": "markdown",
   "metadata": {},
   "source": [
    "**Imputing the null values with the mean. median or mode**"
   ]
  },
  {
   "cell_type": "code",
   "execution_count": 16,
   "metadata": {},
   "outputs": [],
   "source": [
    "from pyspark.ml.feature import Imputer\n",
    "\n",
    "imputer = Imputer(inputCols=['age', 'Experience','Salary'],\n",
    "                  outputCols= [\"{}_imputed\".format(c) for c in ['age', 'Experience','Salary']]\n",
    "                 ).setStrategy('mean')"
   ]
  },
  {
   "cell_type": "code",
   "execution_count": 19,
   "metadata": {},
   "outputs": [
    {
     "name": "stdout",
     "output_type": "stream",
     "text": [
      "+----------+----+----------+------+-----------+------------------+--------------+\n",
      "|      Name| age|Experience|Salary|age_imputed|Experience_imputed|Salary_imputed|\n",
      "+----------+----+----------+------+-----------+------------------+--------------+\n",
      "|     Krish|  31|        10| 30000|         31|                10|         30000|\n",
      "|Sudhanshu |  30|         8| 25000|         30|                 8|         25000|\n",
      "|     Sunny|  29|         4| 20000|         29|                 4|         20000|\n",
      "|     Parul|  24|         3| 20000|         24|                 3|         20000|\n",
      "|    Harsha|  21|         1| 15000|         21|                 1|         15000|\n",
      "|   Shubham|  23|         2| 18000|         23|                 2|         18000|\n",
      "|    Mahesh|NULL|      NULL| 40000|         28|                 5|         40000|\n",
      "|      NULL|  34|        10| 38000|         34|                10|         38000|\n",
      "|      NULL|  36|      NULL|  NULL|         36|                 5|         25750|\n",
      "+----------+----+----------+------+-----------+------------------+--------------+\n",
      "\n"
     ]
    }
   ],
   "source": [
    "imputer.fit(data).transform(data).show()"
   ]
  },
  {
   "cell_type": "code",
   "execution_count": 20,
   "metadata": {},
   "outputs": [],
   "source": [
    "imputer = Imputer(inputCols=['age', 'Experience','Salary'],\n",
    "                  outputCols= [\"{}_imputed\".format(c) for c in ['age', 'Experience','Salary']]\n",
    "                 ).setStrategy('median')"
   ]
  },
  {
   "cell_type": "code",
   "execution_count": 21,
   "metadata": {},
   "outputs": [
    {
     "name": "stdout",
     "output_type": "stream",
     "text": [
      "+----------+----+----------+------+-----------+------------------+--------------+\n",
      "|      Name| age|Experience|Salary|age_imputed|Experience_imputed|Salary_imputed|\n",
      "+----------+----+----------+------+-----------+------------------+--------------+\n",
      "|     Krish|  31|        10| 30000|         31|                10|         30000|\n",
      "|Sudhanshu |  30|         8| 25000|         30|                 8|         25000|\n",
      "|     Sunny|  29|         4| 20000|         29|                 4|         20000|\n",
      "|     Parul|  24|         3| 20000|         24|                 3|         20000|\n",
      "|    Harsha|  21|         1| 15000|         21|                 1|         15000|\n",
      "|   Shubham|  23|         2| 18000|         23|                 2|         18000|\n",
      "|    Mahesh|NULL|      NULL| 40000|         29|                 4|         40000|\n",
      "|      NULL|  34|        10| 38000|         34|                10|         38000|\n",
      "|      NULL|  36|      NULL|  NULL|         36|                 4|         20000|\n",
      "+----------+----+----------+------+-----------+------------------+--------------+\n",
      "\n"
     ]
    }
   ],
   "source": [
    "imputer.fit(data).transform(data).show()"
   ]
  },
  {
   "cell_type": "code",
   "execution_count": 22,
   "metadata": {},
   "outputs": [],
   "source": [
    "imputer = Imputer(inputCols=['age', 'Experience','Salary'],\n",
    "                  outputCols= [\"{}_imputed\".format(c) for c in ['age', 'Experience','Salary']]\n",
    "                 ).setStrategy('mode')"
   ]
  },
  {
   "cell_type": "code",
   "execution_count": 23,
   "metadata": {},
   "outputs": [
    {
     "name": "stdout",
     "output_type": "stream",
     "text": [
      "+----------+----+----------+------+-----------+------------------+--------------+\n",
      "|      Name| age|Experience|Salary|age_imputed|Experience_imputed|Salary_imputed|\n",
      "+----------+----+----------+------+-----------+------------------+--------------+\n",
      "|     Krish|  31|        10| 30000|         31|                10|         30000|\n",
      "|Sudhanshu |  30|         8| 25000|         30|                 8|         25000|\n",
      "|     Sunny|  29|         4| 20000|         29|                 4|         20000|\n",
      "|     Parul|  24|         3| 20000|         24|                 3|         20000|\n",
      "|    Harsha|  21|         1| 15000|         21|                 1|         15000|\n",
      "|   Shubham|  23|         2| 18000|         23|                 2|         18000|\n",
      "|    Mahesh|NULL|      NULL| 40000|         21|                10|         40000|\n",
      "|      NULL|  34|        10| 38000|         34|                10|         38000|\n",
      "|      NULL|  36|      NULL|  NULL|         36|                10|         20000|\n",
      "+----------+----+----------+------+-----------+------------------+--------------+\n",
      "\n"
     ]
    }
   ],
   "source": [
    "imputer.fit(data).transform(data).show()"
   ]
  }
 ],
 "metadata": {
  "kernelspec": {
   "display_name": "Python 3",
   "language": "python",
   "name": "python3"
  },
  "language_info": {
   "codemirror_mode": {
    "name": "ipython",
    "version": 3
   },
   "file_extension": ".py",
   "mimetype": "text/x-python",
   "name": "python",
   "nbconvert_exporter": "python",
   "pygments_lexer": "ipython3",
   "version": "3.8.5"
  }
 },
 "nbformat": 4,
 "nbformat_minor": 4
}
